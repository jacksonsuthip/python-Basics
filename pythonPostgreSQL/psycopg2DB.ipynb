{
 "cells": [
  {
   "cell_type": "code",
   "execution_count": 6,
   "metadata": {},
   "outputs": [],
   "source": [
    "import psycopg2\n"
   ]
  },
  {
   "cell_type": "code",
   "execution_count": 7,
   "metadata": {},
   "outputs": [],
   "source": [
    "# DB Connection\n",
    "\n",
    "def connect():\n",
    "    \"\"\" Connect to the PostgreSQL database server \"\"\"\n",
    "    conn = None\n",
    "    param_dic = {\n",
    "        \"host\": \"localhost\", #os.environ[\"HOST\"],\n",
    "        \"database\": \"testApp\", #os.environ[\"DATABASE\"],\n",
    "        \"user\": \"postgres\", #os.environ[\"USER\"],\n",
    "        \"password\": \"qwert@123\", #os.environ[\"PASSWORD\"]\n",
    "    }\n",
    "    try:\n",
    "        # connect to the PostgreSQL server\n",
    "        print('Connecting to the PostgreSQL database...')\n",
    "        conn = psycopg2.connect(**param_dic)\n",
    "    except (Exception, psycopg2.DatabaseError) as error:\n",
    "        print(error)\n",
    "    print(\"Connection successful\")\n",
    "    return conn"
   ]
  },
  {
   "cell_type": "code",
   "execution_count": 8,
   "metadata": {},
   "outputs": [],
   "source": [
    "# Table Creation\n",
    "def table_creation_aws():\n",
    "\n",
    "    conn = connect()\n",
    "    cursor = conn.cursor()\n",
    "    cursor.execute(\"DROP TABLE IF EXISTS aws_pricing\")\n",
    "\n",
    "    #Creating table as per requirement\n",
    "    sql ='''CREATE TABLE aws_pricing(\n",
    "    sku CHAR(20) NOT NULL,\n",
    "    vCPU INT,\n",
    "    memory INT,\n",
    "    size CHAR(255)\n",
    "    )'''\n",
    "    cursor.execute(sql)\n",
    "    print(\"Table created successfully........\")\n",
    "    conn.commit()\n",
    "\n",
    "# table_creation_aws()"
   ]
  },
  {
   "cell_type": "code",
   "execution_count": 9,
   "metadata": {},
   "outputs": [
    {
     "name": "stdout",
     "output_type": "stream",
     "text": [
      "Connecting to the PostgreSQL database...\n",
      "Connection successful\n",
      "Records inserted........\n"
     ]
    }
   ],
   "source": [
    "def insert_data_aws():\n",
    "    conn = connect()\n",
    "    cursor = conn.cursor()\n",
    "    \n",
    "    cursor.execute('''INSERT INTO aws_pricing(sku, vCPU, memory, size)\n",
    "     VALUES ('432FGGdfs5sfass', '8', 4, 't2.nano')''')\n",
    "\n",
    "    conn.commit()\n",
    "    print(\"Records inserted........\")\n",
    "\n",
    "    conn.close()\n",
    "\n",
    "insert_data_aws()"
   ]
  }
 ],
 "metadata": {
  "kernelspec": {
   "display_name": "Python 3.9.5 64-bit",
   "language": "python",
   "name": "python3"
  },
  "language_info": {
   "codemirror_mode": {
    "name": "ipython",
    "version": 3
   },
   "file_extension": ".py",
   "mimetype": "text/x-python",
   "name": "python",
   "nbconvert_exporter": "python",
   "pygments_lexer": "ipython3",
   "version": "3.9.5"
  },
  "orig_nbformat": 4,
  "vscode": {
   "interpreter": {
    "hash": "11938c6bc6919ae2720b4d5011047913343b08a43b18698fd82dedb0d4417594"
   }
  }
 },
 "nbformat": 4,
 "nbformat_minor": 2
}
