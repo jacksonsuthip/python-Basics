{
 "cells": [
  {
   "cell_type": "code",
   "execution_count": 2,
   "id": "de98eb74",
   "metadata": {},
   "outputs": [],
   "source": [
    "import csv\n",
    "import json\n",
    "\n",
    "def csv_to_json(csv_file_path, json_file_path):\n",
    "    #create a dictionary\n",
    "    data_dict = {}\n",
    "\n",
    "    #Step 2\n",
    "    #open a csv file handler\n",
    "    with open(csv_file_path, encoding = 'utf-8') as csv_file_handler:\n",
    "        csv_reader = csv.DictReader(csv_file_handler)\n",
    "\n",
    "        #convert each row into a dictionary\n",
    "        #and add the converted data to the data_variable\n",
    "\n",
    "        for rows in csv_reader:\n",
    "            #assuming a column named 'No'\n",
    "            #to be the primary key\n",
    "            key = rows['']\n",
    "            data_dict[key] = rows\n",
    "        finData = data_dict.values() # to take only key values seperate\n",
    "#         print(list(finData))\n",
    "    #open a json file handler and use json.dumps\n",
    "    #method to dump the data\n",
    "    #Step 3\n",
    "    with open(json_file_path, 'w', encoding = 'utf-8') as json_file_handler:\n",
    "        #Step 4\n",
    "        json_file_handler.write(json.dumps(list(finData), indent = 4))\n",
    "\n",
    "#driver code\n",
    "#be careful while providing the path of the csv file\n",
    "#provide the file path relative to your machine\n",
    "\n",
    "#Step 1\n",
    "csv_file_path = (r'D:\\appServiceRnD\\exl\\output1.csv')\n",
    "json_file_path = (r'D:\\appServiceRnD\\exl\\output1_py.json')\n",
    "\n",
    "csv_to_json(csv_file_path, json_file_path)"
   ]
  },
  {
   "cell_type": "code",
   "execution_count": null,
   "id": "7239d3db",
   "metadata": {},
   "outputs": [],
   "source": []
  }
 ],
 "metadata": {
  "kernelspec": {
   "display_name": "Python 3.9.5 64-bit",
   "language": "python",
   "name": "python3"
  },
  "language_info": {
   "codemirror_mode": {
    "name": "ipython",
    "version": 3
   },
   "file_extension": ".py",
   "mimetype": "text/x-python",
   "name": "python",
   "nbconvert_exporter": "python",
   "pygments_lexer": "ipython3",
   "version": "3.9.5"
  },
  "vscode": {
   "interpreter": {
    "hash": "11938c6bc6919ae2720b4d5011047913343b08a43b18698fd82dedb0d4417594"
   }
  }
 },
 "nbformat": 4,
 "nbformat_minor": 5
}
