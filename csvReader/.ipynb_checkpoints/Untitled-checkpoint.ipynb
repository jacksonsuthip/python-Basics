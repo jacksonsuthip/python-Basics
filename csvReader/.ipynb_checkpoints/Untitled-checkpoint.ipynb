{
 "cells": [
  {
   "cell_type": "code",
   "execution_count": 22,
   "id": "3f6b6585",
   "metadata": {},
   "outputs": [
    {
     "name": "stdout",
     "output_type": "stream",
     "text": [
      "['q', 't', 'y', 't']\n"
     ]
    }
   ],
   "source": [
    "import pandas as pd\n",
    "\n",
    "# csvFile = (r'D:\\WorkDev\\python-jupyter\\csv\\csvTest.csv')\n",
    "csvFile = ('')\n",
    "mydata = pd.read_csv(csvFile)\n",
    "data1 = mydata['2'].tolist()\n",
    "data2 = mydata['1'].tolist()\n",
    "out = []\n",
    "\n",
    "for val1 in data1:\n",
    "    for val2 in data2:\n",
    "        if(val1 == val2):\n",
    "            out.append(val1)\n",
    "print(out)"
   ]
  },
  {
   "cell_type": "code",
   "execution_count": null,
   "id": "df85d306",
   "metadata": {},
   "outputs": [],
   "source": []
  },
  {
   "cell_type": "code",
   "execution_count": null,
   "id": "cbd8afbd",
   "metadata": {},
   "outputs": [],
   "source": []
  }
 ],
 "metadata": {
  "kernelspec": {
   "display_name": "Python 3 (ipykernel)",
   "language": "python",
   "name": "python3"
  },
  "language_info": {
   "codemirror_mode": {
    "name": "ipython",
    "version": 3
   },
   "file_extension": ".py",
   "mimetype": "text/x-python",
   "name": "python",
   "nbconvert_exporter": "python",
   "pygments_lexer": "ipython3",
   "version": "3.9.12"
  }
 },
 "nbformat": 4,
 "nbformat_minor": 5
}
