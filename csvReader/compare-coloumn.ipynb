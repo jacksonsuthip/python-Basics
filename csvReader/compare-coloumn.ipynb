{
 "cells": [
  {
   "cell_type": "code",
   "execution_count": 6,
   "id": "3f6b6585",
   "metadata": {},
   "outputs": [
    {
     "name": "stdout",
     "output_type": "stream",
     "text": [
      "Equal values are: ['q', 't', 'y', 't']\n"
     ]
    }
   ],
   "source": [
    "import pandas as pd\n",
    "\n",
    "# Location of csv file\n",
    "csvFile1 = (r'D:\\AntoJackson\\GitHub\\python-jupyter\\csvReader\\File\\csvTest.csv')\n",
    "csvFile2 = (r'D:\\AntoJackson\\GitHub\\python-jupyter\\csvReader\\File\\csvTest.csv')\n",
    "\n",
    "# Read using pandas\n",
    "myData1 = pd.read_csv(csvFile1)\n",
    "myData2 = pd.read_csv(csvFile2)\n",
    "\n",
    "# sort coloumn using header \n",
    "data1 = myData1['2'].tolist()\n",
    "data2 = myData2['1'].tolist()\n",
    "\n",
    "out = []\n",
    "\n",
    "# loop for search equal values in coloumn\n",
    "for val1 in data1:\n",
    "    for val2 in data2:\n",
    "        if(val1 == val2):\n",
    "            out.append(val1)\n",
    "\n",
    "print(\"Equal values are:\",out)"
   ]
  },
  {
   "cell_type": "code",
   "execution_count": null,
   "id": "cbd8afbd",
   "metadata": {},
   "outputs": [],
   "source": []
  }
 ],
 "metadata": {
  "kernelspec": {
   "display_name": "Python 3.9.12 64-bit",
   "language": "python",
   "name": "python3"
  },
  "language_info": {
   "codemirror_mode": {
    "name": "ipython",
    "version": 3
   },
   "file_extension": ".py",
   "mimetype": "text/x-python",
   "name": "python",
   "nbconvert_exporter": "python",
   "pygments_lexer": "ipython3",
   "version": "3.9.5"
  },
  "vscode": {
   "interpreter": {
    "hash": "11938c6bc6919ae2720b4d5011047913343b08a43b18698fd82dedb0d4417594"
   }
  }
 },
 "nbformat": 4,
 "nbformat_minor": 5
}
