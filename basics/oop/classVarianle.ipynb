{
 "cells": [
  {
   "cell_type": "code",
   "execution_count": null,
   "id": "80ffce3e",
   "metadata": {},
   "outputs": [],
   "source": [
    "# class variables shared across all the objects of the class\n",
    "class Office:\n",
    "    rent = 10000\n",
    "    total = 0 \n",
    "    \n",
    "    def __init__(self,name):\n",
    "        self.Name = name\n",
    "        Office.total = Office.total + 1\n",
    "    \n",
    "    def member(self,paied):\n",
    "        # instance(self)\n",
    "        self.rent = self.rent - paied\n",
    "        # class(Office)\n",
    "#         Office.rent = Office.rent - paied\n",
    "    \n",
    "\n",
    "a = Office(\"anto\")\n",
    "b = Office(\"Jack\")\n",
    "\n",
    "paied1 = a.member(5000)\n",
    "\n",
    "print(\"a -\",a.rent)\n",
    "print(\"b -\",b.rent)\n",
    "\n",
    "\n",
    "paied = a.member(5000)\n",
    "\n",
    "print(\"total -\",Office.total)\n"
   ]
  },
  {
   "cell_type": "code",
   "execution_count": 65,
   "id": "90921eb1",
   "metadata": {},
   "outputs": [
    {
     "name": "stdout",
     "output_type": "stream",
     "text": [
      "ngl\n",
      "ngl\n",
      "ngl\n"
     ]
    }
   ],
   "source": [
    "#class method & static method\n",
    "class Home:\n",
    "    addr = \"nagercoil\"\n",
    "    def __init__(self,name,phno):\n",
    "        self.Name = name\n",
    "        self.PhNo = phno\n",
    "        \n",
    "    @classmethod\n",
    "    def change_address(cls, address):\n",
    "        cls.addr = address\n",
    "        \n",
    "    @staticmethod\n",
    "    def pc(cName):\n",
    "        available_pc = [\"HP\",\"Dell\"]\n",
    "        \n",
    "p1 = Home(\"anto\",8877)\n",
    "p2 = Home(\"jack\",7788)\n",
    "\n",
    "a = p1.change_address(\"ngl\")\n",
    "\n",
    "print(p1.addr)\n",
    "print(p2.addr)\n",
    "print(Home.addr)\n",
    "        "
   ]
  },
  {
   "cell_type": "code",
   "execution_count": null,
   "id": "56938487",
   "metadata": {},
   "outputs": [],
   "source": []
  }
 ],
 "metadata": {
  "kernelspec": {
   "display_name": "Python 3 (ipykernel)",
   "language": "python",
   "name": "python3"
  },
  "language_info": {
   "codemirror_mode": {
    "name": "ipython",
    "version": 3
   },
   "file_extension": ".py",
   "mimetype": "text/x-python",
   "name": "python",
   "nbconvert_exporter": "python",
   "pygments_lexer": "ipython3",
   "version": "3.9.5"
  }
 },
 "nbformat": 4,
 "nbformat_minor": 5
}
