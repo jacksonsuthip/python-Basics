{
 "cells": [
  {
   "cell_type": "code",
   "execution_count": null,
   "id": "4a720c8e",
   "metadata": {},
   "outputs": [],
   "source": [
    "# use uppercase in 1st letter\n",
    "class Student:\n",
    "    pass \n",
    "\n",
    "stu1 = Student()\n",
    "stu2 = Student()\n",
    "\n",
    "print(stu1)\n",
    "\n",
    "# instance variable\n",
    "stu1.name = \"anto\"\n",
    "stu1.phno = 88700\n",
    "\n",
    "stu2.name = \"jack\"\n",
    "stu2.phno = 23844\n",
    "\n",
    "print(stu1.name)\n",
    "print(stu2.name)"
   ]
  },
  {
   "cell_type": "code",
   "execution_count": 1,
   "id": "cbc5e28c",
   "metadata": {},
   "outputs": [
    {
     "name": "stdout",
     "output_type": "stream",
     "text": [
      "anto\n",
      "888\n",
      "name : anto --- PHNO : 777\n",
      "(23, 25)\n"
     ]
    }
   ],
   "source": [
    "# to avoid manual instance variable creation\n",
    "from datetime import date\n",
    "class Home:\n",
    "    # constructor\n",
    "    def __init__(self,name,phno,year):\n",
    "        # self holdes current object\n",
    "        # to change it to instance variable\n",
    "        self.Name = name\n",
    "        self.phNo = phno\n",
    "        self.year = year\n",
    "        \n",
    "    def address(self):\n",
    "        addr = f\"name : {self.Name} --- PHNO : {self.phNo}\"\n",
    "        return addr\n",
    "    \n",
    "    def age(self,year2):\n",
    "        # date today\n",
    "        current_year = date.today().year\n",
    "        age1 =  current_year - self.year\n",
    "        age2 =  current_year - year2\n",
    "        return age1,age2\n",
    "\n",
    "h1 = Home(\"anto\",777,1997)\n",
    "h2 = Home(\"Jack\",888,1999)\n",
    "\n",
    "print(h1.Name)\n",
    "print(h2.phNo)\n",
    "\n",
    "print(h1.address())\n",
    "print(h2.age(1997))"
   ]
  },
  {
   "cell_type": "code",
   "execution_count": null,
   "id": "37cf9372",
   "metadata": {},
   "outputs": [],
   "source": []
  }
 ],
 "metadata": {
  "kernelspec": {
   "display_name": "Python 3 (ipykernel)",
   "language": "python",
   "name": "python3"
  },
  "language_info": {
   "codemirror_mode": {
    "name": "ipython",
    "version": 3
   },
   "file_extension": ".py",
   "mimetype": "text/x-python",
   "name": "python",
   "nbconvert_exporter": "python",
   "pygments_lexer": "ipython3",
   "version": "3.9.5"
  }
 },
 "nbformat": 4,
 "nbformat_minor": 5
}
