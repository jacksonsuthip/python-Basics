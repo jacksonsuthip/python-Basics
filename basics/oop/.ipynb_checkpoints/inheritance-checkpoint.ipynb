{
 "cells": [
  {
   "cell_type": "code",
   "execution_count": null,
   "id": "a7aa87ca",
   "metadata": {},
   "outputs": [],
   "source": [
    "class Home:\n",
    "    addr = \"nagercoil\"\n",
    "    \n",
    "    def __init__(self,name,phno):\n",
    "        self.Name = name\n",
    "        self.PhNo = phno\n",
    "        \n",
    "    def pc(self,pcName):\n",
    "        value = f\"name : {self.Name} --- PC : {pcName}\"\n",
    "        return value\n",
    "\n",
    "# inheritance\n",
    "class Room(Home):\n",
    "    addr = \"Ngl\"\n",
    "    def __init__(self,name,phno,year):\n",
    "        # dont repete (self.Nmae = name , ...) use super() mtthod\n",
    "        super().__init__(name,phno)\n",
    "        self.Year = year\n",
    "    \n",
    "p1 = Home(\"anto\",8877)\n",
    "p2 = Home(\"jack\",7788)\n",
    "print(p1.Name)\n",
    "print(p2.pc(\"HP\"))\n",
    "print(p1.addr)\n",
    "\n",
    "p3 = Room(\"suthip\",5566,2010)\n",
    "print(p3.addr)\n",
    "print(p3.Year,p3.Name)\n",
    "\n"
   ]
  },
  {
   "cell_type": "code",
   "execution_count": null,
   "id": "5d147b0f",
   "metadata": {},
   "outputs": [],
   "source": []
  }
 ],
 "metadata": {
  "kernelspec": {
   "display_name": "Python 3 (ipykernel)",
   "language": "python",
   "name": "python3"
  },
  "language_info": {
   "codemirror_mode": {
    "name": "ipython",
    "version": 3
   },
   "file_extension": ".py",
   "mimetype": "text/x-python",
   "name": "python",
   "nbconvert_exporter": "python",
   "pygments_lexer": "ipython3",
   "version": "3.9.5"
  }
 },
 "nbformat": 4,
 "nbformat_minor": 5
}
