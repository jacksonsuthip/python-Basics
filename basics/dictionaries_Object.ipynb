{
 "cells": [
  {
   "cell_type": "code",
   "execution_count": null,
   "id": "575bb10d",
   "metadata": {},
   "outputs": [],
   "source": [
    "d = {\n",
    "    \"name\":\"anto\",\n",
    "    \"sName\":\"jackson\",\n",
    "    1997:\"year\"\n",
    "}\n",
    "for i in d:\n",
    "    print(\"loop---\",i,d[i])\n",
    "\n",
    "d[\"ajs\"] = \"suthip\"\n",
    "print(\"add---\",d)\n",
    "\n",
    "# del d[1997]\n",
    "element = d.pop(1997)\n",
    "print(element)\n",
    "print(d)\n",
    "\n",
    "e = {\n",
    "    \"a\" : \"aaa\",\n",
    "    \"b\" : \"bbb\"\n",
    "}\n",
    "d.update(e)\n",
    "print(\"update---\",d)\n",
    "\n"
   ]
  },
  {
   "cell_type": "code",
   "execution_count": null,
   "id": "ac82ae27",
   "metadata": {},
   "outputs": [],
   "source": [
    "dist = {1:\"one\",2:\"two\"}\n",
    "lst = list(dist.values())\n",
    "print(lst)"
   ]
  },
  {
   "cell_type": "code",
   "execution_count": null,
   "id": "b397046a",
   "metadata": {},
   "outputs": [],
   "source": []
  }
 ],
 "metadata": {
  "kernelspec": {
   "display_name": "Python 3 (ipykernel)",
   "language": "python",
   "name": "python3"
  },
  "language_info": {
   "codemirror_mode": {
    "name": "ipython",
    "version": 3
   },
   "file_extension": ".py",
   "mimetype": "text/x-python",
   "name": "python",
   "nbconvert_exporter": "python",
   "pygments_lexer": "ipython3",
   "version": "3.9.12"
  }
 },
 "nbformat": 4,
 "nbformat_minor": 5
}
