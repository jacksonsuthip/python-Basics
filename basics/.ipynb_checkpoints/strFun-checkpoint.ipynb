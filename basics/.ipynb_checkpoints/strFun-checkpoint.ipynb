{
 "cells": [
  {
   "cell_type": "code",
   "execution_count": null,
   "id": "e96d4fcf",
   "metadata": {},
   "outputs": [],
   "source": [
    "str = \"Anto Jackson Suthip \"\n",
    "print(str.split())\n",
    "print(str.strip())\n",
    "print(str.find(\"Jackson\"))"
   ]
  },
  {
   "cell_type": "code",
   "execution_count": null,
   "id": "a6f0097d",
   "metadata": {},
   "outputs": [],
   "source": [
    "str1 = \"HEL LO\"\n",
    "i = str1.isupper() and str1.isspace()\n",
    "j = str1[0:3].isupper() or str1.isspace()\n",
    "print(int(i)+int(j)+5)"
   ]
  },
  {
   "cell_type": "code",
   "execution_count": null,
   "id": "a4bc0c41",
   "metadata": {},
   "outputs": [],
   "source": []
  }
 ],
 "metadata": {
  "kernelspec": {
   "display_name": "Python 3 (ipykernel)",
   "language": "python",
   "name": "python3"
  },
  "language_info": {
   "codemirror_mode": {
    "name": "ipython",
    "version": 3
   },
   "file_extension": ".py",
   "mimetype": "text/x-python",
   "name": "python",
   "nbconvert_exporter": "python",
   "pygments_lexer": "ipython3",
   "version": "3.9.12"
  }
 },
 "nbformat": 4,
 "nbformat_minor": 5
}
