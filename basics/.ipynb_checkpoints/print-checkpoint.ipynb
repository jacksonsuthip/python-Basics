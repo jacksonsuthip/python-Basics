{
 "cells": [
  {
   "cell_type": "code",
   "execution_count": null,
   "metadata": {},
   "outputs": [],
   "source": [
    "# print\n",
    "print(\"AJS\")\n",
    "print(\"Anto\",\"Jackson\",sep='*',end=' - ') \n",
    "print(\"Suthip\")\n",
    "print(\"j-\"*3)"
   ]
  },
  {
   "cell_type": "code",
   "execution_count": null,
   "metadata": {},
   "outputs": [],
   "source": [
    "# data type\n",
    "a = \"string\"\n",
    "b = 5\n",
    "c = 4.5\n",
    "d = [1,\"a\",10,5]\n",
    "print(type(a))\n",
    "# methods in python\n",
    "print(dir(a))\n",
    "print(dir(d))"
   ]
  },
  {
   "cell_type": "code",
   "execution_count": null,
   "metadata": {},
   "outputs": [],
   "source": [
    "a = int(input(\"Enter 'a' number:\"))\n",
    "b = float(input(\"Enter 'b' number:\"))\n",
    "c = a+b\n",
    "d = a//b\n",
    "print(\"output of c =\", c)\n",
    "print(\"=\", d)"
   ]
  },
  {
   "cell_type": "code",
   "execution_count": null,
   "metadata": {},
   "outputs": [],
   "source": [
    "# Augumented Assignment operator\n",
    "a = 10\n",
    "a += 5\n",
    "print(a)\n",
    "\n",
    "r = 10\n",
    "x = r**5\n",
    "r %= x # now x is 100000\n",
    "print(r)\n",
    "\n",
    "n = 25\n",
    "print((n % 24 == 0) or (n % 30 == 0) )"
   ]
  },
  {
   "cell_type": "code",
   "execution_count": null,
   "metadata": {},
   "outputs": [],
   "source": []
  }
 ],
 "metadata": {
  "kernelspec": {
   "display_name": "Python 3 (ipykernel)",
   "language": "python",
   "name": "python3"
  },
  "language_info": {
   "codemirror_mode": {
    "name": "ipython",
    "version": 3
   },
   "file_extension": ".py",
   "mimetype": "text/x-python",
   "name": "python",
   "nbconvert_exporter": "python",
   "pygments_lexer": "ipython3",
   "version": "3.9.5"
  }
 },
 "nbformat": 4,
 "nbformat_minor": 2
}
