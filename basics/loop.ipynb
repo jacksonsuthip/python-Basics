{
 "cells": [
  {
   "cell_type": "code",
   "execution_count": null,
   "id": "0f26ed93",
   "metadata": {},
   "outputs": [],
   "source": [
    "a = int(input(\"Enter initial value: \"))\n",
    "b = int(input(\"Enter to value: \"))\n",
    "c = int(input(\"Enter step value: \"))\n",
    "\n",
    "for i in range(a,b,c):\n",
    "    print(i)"
   ]
  },
  {
   "cell_type": "code",
   "execution_count": null,
   "id": "0982030c",
   "metadata": {},
   "outputs": [],
   "source": [
    "i = 0\n",
    "while i < 10:\n",
    "    print(i)\n",
    "    i = i+1"
   ]
  },
  {
   "cell_type": "code",
   "execution_count": null,
   "id": "4f6c0222",
   "metadata": {},
   "outputs": [],
   "source": [
    "for i in range(5):\n",
    "    print(i)\n",
    "else:\n",
    "    print('else part')"
   ]
  },
  {
   "cell_type": "code",
   "execution_count": null,
   "id": "47ddd16a",
   "metadata": {},
   "outputs": [],
   "source": [
    "lst = [10,30,40,70,80]\n",
    "\n",
    "for i in lst:\n",
    "    if i == 40:\n",
    "        break\n",
    "#     print(i)\n",
    "else:\n",
    "    print('40')\n",
    "    "
   ]
  },
  {
   "cell_type": "code",
   "execution_count": null,
   "id": "2f76cc00",
   "metadata": {},
   "outputs": [],
   "source": []
  }
 ],
 "metadata": {
  "kernelspec": {
   "display_name": "Python 3 (ipykernel)",
   "language": "python",
   "name": "python3"
  },
  "language_info": {
   "codemirror_mode": {
    "name": "ipython",
    "version": 3
   },
   "file_extension": ".py",
   "mimetype": "text/x-python",
   "name": "python",
   "nbconvert_exporter": "python",
   "pygments_lexer": "ipython3",
   "version": "3.9.12"
  }
 },
 "nbformat": 4,
 "nbformat_minor": 5
}
