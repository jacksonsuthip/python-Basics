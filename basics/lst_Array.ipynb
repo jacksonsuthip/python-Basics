{
 "cells": [
  {
   "cell_type": "code",
   "execution_count": null,
   "id": "dff20f0c",
   "metadata": {
    "scrolled": true
   },
   "outputs": [],
   "source": [
    "lst = [10,30,40,70,80]\n",
    "    \n",
    "print(\"-\",(10*3) in lst)\n",
    "print(\"=\",lst[-1]+lst[1])\n",
    "\n",
    "print(\"length\", len(lst))\n",
    "print(\"max\", max(lst))\n",
    "\n",
    "# push\n",
    "lst.append(5)\n",
    "print(lst)"
   ]
  },
  {
   "cell_type": "code",
   "execution_count": null,
   "id": "fca327ac",
   "metadata": {
    "scrolled": true
   },
   "outputs": [],
   "source": [
    "lst = [10,30,40,70,80]\n",
    "\n",
    "lst.append(100)\n",
    "print(lst)\n",
    "\n",
    "lst.insert(1,110)\n",
    "print(lst)\n",
    "\n",
    "lst1 = [5,15,25,35]\n",
    "lst.extend(lst1)\n",
    "print(lst)\n",
    "\n",
    "lst.remove(40)\n",
    "print(lst)\n",
    "\n",
    "element = lst.pop(0)\n",
    "print(element)\n",
    "print(lst)"
   ]
  },
  {
   "cell_type": "code",
   "execution_count": null,
   "id": "3bed615b",
   "metadata": {
    "scrolled": true
   },
   "outputs": [],
   "source": [
    "lst2 = [1,2,3,5,4,2]\n",
    "\n",
    "lst2.sort()\n",
    "print(lst2)\n",
    "\n",
    "lst2.sort(reverse=True)\n",
    "print(lst2)"
   ]
  },
  {
   "cell_type": "code",
   "execution_count": null,
   "id": "599b8c9a",
   "metadata": {
    "scrolled": true
   },
   "outputs": [],
   "source": [
    "lst_3 = [10,20,30,40,50,60,70]\n",
    "\n",
    "# lst_3[2] = \"a\"\n",
    "# print(lst_3)\n",
    "\n",
    "lst_3[2:4] = [\"a\",\"b\"]\n",
    "print(lst_3)"
   ]
  },
  {
   "cell_type": "code",
   "execution_count": null,
   "id": "0ec176a7",
   "metadata": {
    "scrolled": true
   },
   "outputs": [],
   "source": [
    "tup = (10,20,30,50)\n",
    "# print(len(tup))\n",
    "\n",
    "for i in range(len(tup)):\n",
    "    print(tup[i])"
   ]
  },
  {
   "cell_type": "code",
   "execution_count": null,
   "id": "36ecf6c4",
   "metadata": {
    "scrolled": true
   },
   "outputs": [],
   "source": []
  }
 ],
 "metadata": {
  "kernelspec": {
   "display_name": "Python 3 (ipykernel)",
   "language": "python",
   "name": "python3"
  },
  "language_info": {
   "codemirror_mode": {
    "name": "ipython",
    "version": 3
   },
   "file_extension": ".py",
   "mimetype": "text/x-python",
   "name": "python",
   "nbconvert_exporter": "python",
   "pygments_lexer": "ipython3",
   "version": "3.9.12"
  }
 },
 "nbformat": 4,
 "nbformat_minor": 5
}
